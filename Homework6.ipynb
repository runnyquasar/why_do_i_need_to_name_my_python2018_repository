{
 "cells": [
  {
   "cell_type": "code",
   "execution_count": null,
   "metadata": {},
   "outputs": [],
   "source": [
    "from requests.exceptions import HTTPError, Timeout\n",
    "import requests \n",
    "import json \n",
    "import os  \n",
    "from datetime import date, datetime  \n",
    "import urllib.request\n",
    "from pymystem3 import Mystem\n",
    "import collections\n",
    "from collections import Counter\n",
    "import re\n",
    "from string import punctuation\n",
    "import matplotlib.pyplot as plt\n",
    "from matplotlib import style\n",
    "style.use('ggplot')\n",
    "import nltk\n",
    "nltk.download(\"stopwords\")\n",
    "from nltk.corpus import stopwords\n",
    "from scipy.interpolate import interp1d \n",
    "import numpy as np\n",
    "import seaborn as sns\n",
    "import csv\n",
    "import wordcloud\n",
    "from PIL import Image\n",
    "\n",
    "def csv_maker(status, post_id, poster_id, first_name, last_name, \n",
    "             sex, city, bdate, age, education, text):\n",
    "    lenght = len(text)\n",
    "    string = '%s,%s,%s,%s,%s,%s,%s,%s,%s,\"%s\",%s,\"%s\"' % (\n",
    "        status, post_id, poster_id, first_name, last_name,\n",
    "        sex, city, bdate, age, education, length, text)\n",
    "    return string\n",
    "\n",
    "def csv_writer():\n",
    "    string = 'status,post_id,owner_id,name,surname,sex,city,' \\\n",
    "             'bdate,age,education,length,text,comments_id\\n'\n",
    "    i = 0\n",
    "    while i < 1000:\n",
    "        filename = 'datas' + i + '.csv'\n",
    "        i = i + 1\n",
    "        with open(filename, 'w', encoding = 'utf-8') as f:\n",
    "            f.write(string)\n"
   ]
  }
 ],
 "metadata": {
  "kernelspec": {
   "display_name": "Python 3",
   "language": "python",
   "name": "python3"
  },
  "language_info": {
   "codemirror_mode": {
    "name": "ipython",
    "version": 3
   },
   "file_extension": ".py",
   "mimetype": "text/x-python",
   "name": "python",
   "nbconvert_exporter": "python",
   "pygments_lexer": "ipython3",
   "version": "3.7.3"
  }
 },
 "nbformat": 4,
 "nbformat_minor": 2
}
